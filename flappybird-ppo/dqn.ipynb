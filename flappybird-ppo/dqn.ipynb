{
 "cells": [
  {
   "cell_type": "markdown",
   "metadata": {
    "pycharm": {
     "name": "#%% md\n"
    }
   },
   "source": [
    "# RLLBC Bonus Point Assignment II Part B\n",
    "<div style=\"text-align: right;font-size: 0.8em\">Document Version 1.0.0, released 2022-06-24</div>\n",
    "For task instructions, refer to the assignment PDF.\n",
    "\n",
    "* The parts of the code you are to implement are indicated via `# TODO` comments.\n",
    "* You can use the `# Test code` cells to verify your implementation. However note that these are not the unit tests used for grading.\n",
    "* Some cells create export file in the `solution/` folder. _Include whole `solution/` folder in your submission_.\n",
    "* DO NOT CLEAR THE OUTPUT of the notebook you are submitting!"
   ]
  },
  {
   "cell_type": "code",
   "execution_count": 1,
   "metadata": {
    "pycharm": {
     "name": "#%%\n"
    }
   },
   "outputs": [],
   "source": [
    "# General imports\n",
    "from pathlib import Path\n",
    "from copy import deepcopy\n",
    "import numpy as np\n",
    "import pandas as pd\n",
    "import matplotlib.pyplot as plt\n",
    "import seaborn as sns\n",
    "import gym\n",
    "from tqdm.auto import tqdm\n",
    "import time\n",
    "import flappy_bird_gym\n",
    "\n",
    "# Create solution folder\n",
    "Path(\"solution/\").mkdir(exist_ok=True)"
   ]
  },
  {
   "cell_type": "markdown",
   "metadata": {
    "pycharm": {
     "name": "#%% md\n"
    }
   },
   "source": [
    "## Question B1 - Deep Q-Networks\n",
    "### a) Implement Replay Buffer"
   ]
  },
  {
   "cell_type": "code",
   "execution_count": 2,
   "metadata": {
    "pycharm": {
     "name": "#%%\n"
    }
   },
   "outputs": [],
   "source": [
    "class ReplayBuffer(object):\n",
    "    def __init__(self, mem_size, state_shape):\n",
    "        \"\"\"Initialization of the replay buffer.\n",
    "        \n",
    "        The memories have the following data types:\n",
    "            states: float32\n",
    "            next_states: float32\n",
    "            actions: int64\n",
    "            rewards: float32\n",
    "            is_terminal: bool\n",
    "\n",
    "        Args:\n",
    "            mem_size: Capacity of this buffer\n",
    "            state_shape: Shape of state and next_state\n",
    "        \"\"\"\n",
    "        self.mem_size = mem_size  # Capacity of the buffer\n",
    "        self.mem_cntr = 0         # Number of added elements\n",
    "        self.state_memory = np.zeros((self.mem_size, *state_shape), dtype=np.float32)\n",
    "        self.next_state_memory = np.zeros((self.mem_size, *state_shape), dtype=np.float32)\n",
    "        self.action_memory = np.zeros(self.mem_size, dtype=np.int64)\n",
    "        self.reward_memory = np.zeros(self.mem_size, dtype=np.float32)\n",
    "        self.terminal_memory = np.zeros(self.mem_size, dtype=np.bool)\n",
    "    \n",
    "    def is_filled(self):\n",
    "        \"\"\"Check if the memory is filled.\"\"\"\n",
    "        return self.mem_cntr >= self.mem_size\n",
    "\n",
    "    def add(self, state, action, reward, next_state, is_terminal):\n",
    "        \"\"\"Add one transition to the buffer.\n",
    "\n",
    "        Replaces the oldest transition in memory.\n",
    "        \"\"\"\n",
    "        # TODO\n",
    "        index = self.mem_cntr%self.mem_size    \n",
    "        self.state_memory[index] = state\n",
    "        self.next_state_memory[index] = next_state\n",
    "        self.action_memory[index] = action\n",
    "        self.reward_memory[index] = reward\n",
    "        self.terminal_memory[index] = is_terminal\n",
    "        \n",
    "        self.mem_cntr += 1\n",
    "            \n",
    "    \n",
    "\n",
    "\n",
    "    def sample_batch(self, batch_size):\n",
    "        \"\"\"Sample one batch from the memory.\"\"\"\n",
    "        # TODO\n",
    "        ind = np.random.choice(self.mem_size,batch_size, replace = False)\n",
    "       \n",
    "        states = self.state_memory[ind]\n",
    "        next_states = self.next_state_memory[ind]\n",
    "        actions = self.action_memory[ind]\n",
    "        rewards = self.reward_memory[ind]\n",
    "        is_terminal = self.terminal_memory[ind]\n",
    "        \n",
    "        return states, actions, rewards, next_states, is_terminal\n",
    "        return states, actions, rewards, next_states, is_terminal"
   ]
  },
  {
   "cell_type": "code",
   "execution_count": 3,
   "metadata": {
    "pycharm": {
     "name": "#%%\n"
    }
   },
   "outputs": [
    {
     "data": {
      "text/plain": [
       "'ok'"
      ]
     },
     "execution_count": 3,
     "metadata": {},
     "output_type": "execute_result"
    }
   ],
   "source": [
    "# Test code\n",
    "_buffer = ReplayBuffer(10, (5, ))\n",
    "assert _buffer.mem_size == 10\n",
    "assert _buffer.mem_cntr == 0\n",
    "for i in range(10):  # Fill test values\n",
    "    _buffer.add(np.arange(5) + i, 5 + i, 6 + i, 7 + np.arange(5) + i, (12 + i) % 2 == 0)\n",
    "assert _buffer.mem_size == 10\n",
    "assert _buffer.mem_cntr == 10, \"Wrong mem_cntr\"\n",
    "\n",
    "_is = set()\n",
    "for s, a, r, s_, t in zip(*_buffer.sample_batch(5)):\n",
    "    i = s[0]\n",
    "    assert 0 <= i < 10, \"Wrong states\"\n",
    "    _is.add(i)\n",
    "    np.testing.assert_array_equal(s, np.arange(5) + i, err_msg=\"Wrong states\")\n",
    "    np.testing.assert_equal(a, 5 + i, err_msg=\"Wrong actions\")\n",
    "    np.testing.assert_equal(r, 6 + i, err_msg=\"Wrong rewards\")\n",
    "    np.testing.assert_array_equal(s_, 7 + np.arange(5) + i, err_msg=\"Wrong next states\")\n",
    "    np.testing.assert_equal(t, (12 + i) % 2 == 0, err_msg=\"Wrong terminals\")\n",
    "assert len(_is) == 5, \"Duplicate transitions\"\n",
    "\"ok\""
   ]
  },
  {
   "cell_type": "markdown",
   "metadata": {
    "pycharm": {
     "name": "#%% md\n"
    }
   },
   "source": [
    "### b) Fill replay buffer"
   ]
  },
  {
   "cell_type": "code",
   "execution_count": 4,
   "metadata": {
    "pycharm": {
     "name": "#%%\n"
    }
   },
   "outputs": [],
   "source": [
    "env = flappy_bird_gym.make(\"FlappyBird-v0\")\n",
    "\n",
    "# Initialize replay buffer\n",
    "buffer = ReplayBuffer(mem_size=25000, state_shape=env.observation_space.shape)\n",
    "\n",
    "# ********************\n",
    "# TODO Sample transitions from environment and add to buffer\n",
    "state,is_terminal = env.reset(), False\n",
    "while not(buffer.is_filled()):\n",
    "    while not is_terminal:\n",
    "      action = env.action_space.sample()\n",
    "      next_state, reward, is_terminal,_ = env.step(action)\n",
    "      buffer.add(state, action, reward, next_state, is_terminal) \n",
    "      state = next_state\n",
    "    state = env.reset()\n",
    "    is_terminal = False"
   ]
  },
  {
   "cell_type": "code",
   "execution_count": 5,
   "metadata": {
    "pycharm": {
     "name": "#%%\n"
    }
   },
   "outputs": [
    {
     "data": {
      "text/plain": [
       "'ok'"
      ]
     },
     "execution_count": 5,
     "metadata": {},
     "output_type": "execute_result"
    }
   ],
   "source": [
    "# Test code\n",
    "assert buffer.is_filled(), f\"Buffer not filled, only {buffer.mem_cntr}/{buffer.mem_size} transitions in memory\"\n",
    "\"ok\""
   ]
  },
  {
   "cell_type": "markdown",
   "metadata": {
    "pycharm": {
     "name": "#%% md\n"
    }
   },
   "source": [
    "## Question B2 - Deep Q-Networks\n",
    "### a) Define Q-Network"
   ]
  },
  {
   "cell_type": "code",
   "execution_count": 6,
   "metadata": {
    "pycharm": {
     "name": "#%%\n"
    }
   },
   "outputs": [],
   "source": [
    "import torch\n",
    "from torch import nn\n",
    "import torch.nn.functional as F\n",
    "\n",
    "class DeepQNetwork(nn.Module):\n",
    "    def __init__(self):\n",
    "        super(DeepQNetwork, self).__init__()\n",
    "        # TODO Create layers\n",
    "        self.fc1 = nn.Linear(in_features=2, out_features=64)   \n",
    "#         self.fc2 = nn.Linear(in_features=24, out_features=32)\n",
    "        self.out = nn.Linear(in_features=64, out_features=2)\n",
    "\n",
    "\n",
    "    def forward(self, state):\n",
    "        # TODO Implement forward pass\n",
    "        state = torch.as_tensor(state, dtype = torch.float32)\n",
    "        state = F.relu(self.fc1(state))\n",
    "#         state = F.relu(self.fc2(state))\n",
    "        Q = self.out(state)\n",
    "        \n",
    "        return Q"
   ]
  },
  {
   "cell_type": "code",
   "execution_count": 7,
   "metadata": {
    "pycharm": {
     "name": "#%%\n"
    }
   },
   "outputs": [
    {
     "data": {
      "text/plain": [
       "'ok'"
      ]
     },
     "execution_count": 7,
     "metadata": {},
     "output_type": "execute_result"
    }
   ],
   "source": [
    "# Test code\n",
    "_test_output = DeepQNetwork()(torch.FloatTensor([[1, 2]]))\n",
    "assert _test_output.shape == (1, 2), f\"Expected output shape (1, 2), got {_test_output.shape}\"\n",
    "\"ok\""
   ]
  },
  {
   "cell_type": "markdown",
   "metadata": {
    "pycharm": {
     "name": "#%% md\n"
    }
   },
   "source": [
    "### b) $\\epsilon$-Greedy"
   ]
  },
  {
   "cell_type": "code",
   "execution_count": 8,
   "metadata": {
    "pycharm": {
     "name": "#%%\n"
    }
   },
   "outputs": [],
   "source": [
    "def epsilon_greedy(state, q_network, epsilon=0.05):\n",
    "    \"\"\"Perform epsilon-greedy action sampling.\n",
    "\n",
    "    Args:\n",
    "        state: numpy ndarray, current state\n",
    "        q_network: torch module\n",
    "\n",
    "    Returns:\n",
    "        action: one action\n",
    "    \"\"\"\n",
    "    # TODO Epsilon-greedy action sampling\n",
    "\n",
    "    r = np.random.random()\n",
    "    if(r <= epsilon ):\n",
    "        action = np.random.choice(2)\n",
    "    else:\n",
    "        action = q_network.forward(state).argmax()\n",
    "        action = action.item()\n",
    "    return action"
   ]
  },
  {
   "cell_type": "code",
   "execution_count": 9,
   "metadata": {
    "pycharm": {
     "name": "#%%\n"
    }
   },
   "outputs": [
    {
     "data": {
      "image/png": "[encoded data removed]",
      "text/plain": [
       "<Figure size 432x288 with 1 Axes>"
      ]
     },
     "metadata": {
      "needs_background": "light"
     },
     "output_type": "display_data"
    }
   ],
   "source": [
    "# Test Code\n",
    "class DummyModule(nn.Module):\n",
    "    def forward(self, state):\n",
    "        return torch.FloatTensor([1, 2])  # Constant output\n",
    "\n",
    "\n",
    "# Sample 1000 actions\n",
    "_actions = [epsilon_greedy(np.array([1, 2, 3, 4]), DummyModule(), epsilon=0.2) for _ in range(1000)]\n",
    "\n",
    "sns.histplot(_actions, discrete=True, stat=\"density\")\n",
    "plt.xticks([0, 1])\n",
    "plt.show()\n",
    "\n",
    "_zeros = 1000 - sum(_actions)\n",
    "# Note: This is a stochastic test. It produces a false error in 1% of the cases\n",
    "assert 75 < _zeros < 125, f\"Frequency of action 0 ({_zeros}) is outside the 99% confidence interval [76, 124]\""
   ]
  },
  {
   "cell_type": "markdown",
   "metadata": {
    "pycharm": {
     "name": "#%% md\n"
    }
   },
   "source": [
    "### c) Loss Function"
   ]
  },
  {
   "cell_type": "code",
   "execution_count": 10,
   "metadata": {
    "pycharm": {
     "name": "#%%\n"
    }
   },
   "outputs": [],
   "source": [
    "mse = nn.MSELoss()\n",
    "\n",
    "def compute_loss(q_network, target_network, states, actions, rewards, next_states, is_terminal, gamma=0.99):\n",
    "    # TODO Implement loss function\n",
    "    qvals_total = q_network.forward(states)\n",
    "    qvals = torch.gather(qvals_total, 1, actions)\n",
    "    \n",
    "    next_actions = q_network.forward(next_states).argmax(axis = 1)\n",
    "    next_actions = next_actions.unsqueeze(0).reshape(-1,1)\n",
    "    \n",
    "    next_qvals_total = target_network.forward(next_states)\n",
    "    next_qval=torch.gather(next_qvals_total, 1, next_actions).reshape(-1,1)\n",
    "    \n",
    "    is_terminal_int = is_terminal.long().reshape(-1,1)\n",
    "    expected_qvals = rewards + gamma * (1 - is_terminal_int) * next_qval\n",
    "    loss = mse(qvals, expected_qvals)\n",
    "\n",
    "    return loss"
   ]
  },
  {
   "cell_type": "markdown",
   "metadata": {
    "pycharm": {
     "name": "#%% md\n"
    }
   },
   "source": [
    "### d) Training a new model"
   ]
  },
  {
   "cell_type": "code",
   "execution_count": 30,
   "metadata": {
    "pycharm": {
     "name": "#%%\n"
    }
   },
   "outputs": [
    {
     "data": {
      "application/vnd.jupyter.widget-view+json": {
       "model_id": "e5df7221ad5c4d839768c2f456a2e406",
       "version_major": 2,
       "version_minor": 0
      },
      "text/plain": [
       "  0%|          | 0/100000 [00:00<?, ?it/s]"
      ]
     },
     "metadata": {},
     "output_type": "display_data"
    },
    {
     "data": {
      "image/png": "[encoded data removed]",
      "text/plain": [
       "<Figure size 432x288 with 1 Axes>"
      ]
     },
     "metadata": {
      "needs_background": "light"
     },
     "output_type": "display_data"
    }
   ],
   "source": [
    "if not Path('solution/b2d.pt').is_file():\n",
    "    print (\"model exists confirm overwrite?\")\n",
    "    reply = input()\n",
    "    if reply == \"y\":\n",
    "    \n",
    "        # Hyperparameters\n",
    "        epsilon= 0.05  # For epsilon start greedy action sampling\n",
    "        epsilon_min= 0.05\n",
    "        epsilon_decay = 0.99\n",
    "        batch_size = 64\n",
    "        NETWORK_UPDATE_FREQUENCY = 4\n",
    "        NETWORK_SYNC_FREQUENCY = 2000\n",
    "        gamma = 0.99\n",
    "        episodes = 100000\n",
    "        replay_buffer_size = 0 #TODO\n",
    "\n",
    "\n",
    "        q_network = DeepQNetwork()\n",
    "        target_network = deepcopy(q_network)\n",
    "        optimizer = torch.optim.Adam(q_network.parameters(), lr=1e-3)\n",
    "        mse = nn.MSELoss()\n",
    "\n",
    "        step_count = 0\n",
    "        total_rewards = []\n",
    "        with tqdm(range(episodes)) as pbar:\n",
    "            for epi in pbar:\n",
    "                state, done = env.reset(), False\n",
    "                rewards = []\n",
    "                t=0\n",
    "                if epi%100 == 0:\n",
    "                    epsilon *= epsilon_decay\n",
    "                    if (epsilon < epsilon_min):\n",
    "                        epsilon = epsilon_min \n",
    "                while not done:\n",
    "                    # Take a step\n",
    "                    action = epsilon_greedy(state, q_network, epsilon=epsilon)\n",
    "                    next_state, reward, done, _ = env.step(action)\n",
    "                    t=t+1\n",
    "                    # Bookkeeping\n",
    "                    if done:\n",
    "                        reward -= 100\n",
    "                    rewards.append(reward)\n",
    "                    buffer.add(state=state, action=action, reward=reward, next_state=next_state, is_terminal=done and t < 500)\n",
    "                    state = next_state\n",
    "\n",
    "                    step_count += 1 \n",
    "                    # Update network every NETWORK_UPDATE_FREQUENCY steps\n",
    "                    if step_count % NETWORK_UPDATE_FREQUENCY == 0:\n",
    "                        # Sample batch of transitions\n",
    "                        state_batch, action_batch, reward_batch, next_state_batch, terminal_batch = buffer.sample_batch(batch_size=batch_size)\n",
    "                        state_batch = torch.FloatTensor(state_batch)\n",
    "                        next_state_batch = torch.FloatTensor(next_state_batch)\n",
    "                        action_batch = torch.LongTensor(action_batch).reshape(-1, 1)\n",
    "                        reward_batch = torch.FloatTensor(reward_batch).reshape(-1, 1)\n",
    "                        terminal_batch = torch.BoolTensor(terminal_batch)\n",
    "\n",
    "                        # Compute loss\n",
    "                        loss = compute_loss(q_network, target_network, state_batch, action_batch, reward_batch, next_state_batch, terminal_batch, gamma)\n",
    "\n",
    "                        optimizer.zero_grad()\n",
    "                        loss.backward()\n",
    "                        optimizer.step()\n",
    "\n",
    "                    # Sync networks every NETWORK_SYNC_FREQUENCY steps\n",
    "                    if step_count % NETWORK_SYNC_FREQUENCY == 0:\n",
    "                        # ********************\n",
    "                        # TODO Synchronize networks\n",
    "\n",
    "                        target_network.load_state_dict(q_network.state_dict())\n",
    "                        target_network.eval()\n",
    "\n",
    "                        # ********************\n",
    "\n",
    "                total_rewards.append(sum(rewards))\n",
    "\n",
    "                 # Print statistics\n",
    "                pbar.set_description(f\"Mean training reward  {np.mean(total_rewards[-100:]):.02f}\")\n",
    "                pbar.set_postfix({'epsilon': epsilon})\n",
    "                if np.mean(total_rewards[-100:]) == 500:\n",
    "                    break # Stop training\n",
    "\n",
    "        # Save model\n",
    "        with open(\"solution/b2d.pt\", \"wb\") as f:\n",
    "            torch.save(q_network, f)\n",
    "\n",
    "        # Plot training\n",
    "        plt.plot(total_rewards, label=\"per episode\")\n",
    "        plt.plot(pd.DataFrame(total_rewards).rolling(100).mean(), label=\"average reward\")\n",
    "        plt.xlabel(\"epoch\")\n",
    "        plt.ylabel(\"reward\")\n",
    "        plt.legend()\n",
    "        plt.tight_layout()\n",
    "        plt.savefig(\"solution/b2d.png\")\n",
    "    else:\n",
    "        print(\"retrain by running next cell\")"
   ]
  },
  {
   "cell_type": "markdown",
   "metadata": {},
   "source": [
    "### if a saved model exists  continue training with that"
   ]
  },
  {
   "cell_type": "code",
   "execution_count": 31,
   "metadata": {},
   "outputs": [
    {
     "name": "stdout",
     "output_type": "stream",
     "text": [
      "model exists, retraining.....\n"
     ]
    },
    {
     "data": {
      "application/vnd.jupyter.widget-view+json": {
       "model_id": "771551564ccd4f60aa9c49f6b0c3f963",
       "version_major": 2,
       "version_minor": 0
      },
      "text/plain": [
       "  0%|          | 0/10000 [00:00<?, ?it/s]"
      ]
     },
     "metadata": {},
     "output_type": "display_data"
    },
    {
     "data": {
      "image/png": "[encoded data removed]",
      "text/plain": [
       "<Figure size 432x288 with 1 Axes>"
      ]
     },
     "metadata": {
      "needs_background": "light"
     },
     "output_type": "display_data"
    }
   ],
   "source": [
    "if not Path('solution/b2d.pt').is_file():\n",
    "    print (\"model does not exist\")   \n",
    "else:\n",
    "    print (\"model exists, retraining.....\")\n",
    "    \n",
    "    # Hyperparameters \n",
    "    epsilon= 0.05  # For epsilon start greedy action sampling\n",
    "    epsilon_min= 0.05\n",
    "    epsilon_decay = 0.99\n",
    "    batch_size = 64\n",
    "    NETWORK_UPDATE_FREQUENCY = 4\n",
    "    NETWORK_SYNC_FREQUENCY = 2000\n",
    "    gamma = 0.99\n",
    "    episodes = 10000\n",
    "    replay_buffer_size = 0 #TODO\n",
    "\n",
    "\n",
    "    q_network = torch.load(\"solution/b2d.pt\")\n",
    "    target_network = deepcopy(q_network)\n",
    "    optimizer = torch.optim.Adam(q_network.parameters(), lr=1e-3)\n",
    "    mse = nn.MSELoss()\n",
    "\n",
    "    step_count = 0\n",
    "    total_rewards = []\n",
    "    with tqdm(range(episodes)) as pbar:\n",
    "        for epi in pbar:\n",
    "            state, done = env.reset(), False\n",
    "            rewards = []\n",
    "            t=0\n",
    "            if epi%100 == 0:\n",
    "                epsilon *= epsilon_decay\n",
    "                if (epsilon < epsilon_min):\n",
    "                    epsilon = epsilon_min \n",
    "            while not done:\n",
    "                # Take a step\n",
    "                action = epsilon_greedy(state, q_network, epsilon=epsilon)\n",
    "                next_state, reward, done, _ = env.step(action)\n",
    "                t=t+1\n",
    "                # Bookkeeping\n",
    "                if done:\n",
    "                    reward -= 100\n",
    "                rewards.append(reward)\n",
    "                buffer.add(state=state, action=action, reward=reward, next_state=next_state, is_terminal=done and t < 500)\n",
    "                state = next_state\n",
    "\n",
    "                step_count += 1 \n",
    "                # Update network every NETWORK_UPDATE_FREQUENCY steps\n",
    "                if step_count % NETWORK_UPDATE_FREQUENCY == 0:\n",
    "                    # Sample batch of transitions\n",
    "                    state_batch, action_batch, reward_batch, next_state_batch, terminal_batch = buffer.sample_batch(batch_size=batch_size)\n",
    "                    state_batch = torch.FloatTensor(state_batch)\n",
    "                    next_state_batch = torch.FloatTensor(next_state_batch)\n",
    "                    action_batch = torch.LongTensor(action_batch).reshape(-1, 1)\n",
    "                    reward_batch = torch.FloatTensor(reward_batch).reshape(-1, 1)\n",
    "                    terminal_batch = torch.BoolTensor(terminal_batch)\n",
    "\n",
    "                    # Compute loss\n",
    "                    loss = compute_loss(q_network, target_network, state_batch, action_batch, reward_batch, next_state_batch, terminal_batch, gamma)\n",
    "\n",
    "                    optimizer.zero_grad()\n",
    "                    loss.backward()\n",
    "                    optimizer.step()\n",
    "\n",
    "                # Sync networks every NETWORK_SYNC_FREQUENCY steps\n",
    "                if step_count % NETWORK_SYNC_FREQUENCY == 0:\n",
    "                    # ********************\n",
    "                    # TODO Synchronize networks\n",
    "\n",
    "                    target_network.load_state_dict(q_network.state_dict())\n",
    "                    target_network.eval()\n",
    "\n",
    "                    # ********************\n",
    "\n",
    "            total_rewards.append(sum(rewards))\n",
    "\n",
    "             # Print statistics\n",
    "            pbar.set_description(f\"Mean training reward  {np.mean(total_rewards[-100:]):.02f}\")\n",
    "            pbar.set_postfix({'epsilon': epsilon})\n",
    "            if np.mean(total_rewards[-100:]) == 500:\n",
    "                break # Stop training\n",
    "\n",
    "    # Save model\n",
    "    with open(\"solution/b2d.pt\", \"wb\") as f:\n",
    "        torch.save(q_network, f)\n",
    "\n",
    "    # Plot training\n",
    "    plt.plot(total_rewards, label=\"per episode\")\n",
    "    plt.plot(pd.DataFrame(total_rewards).rolling(100).mean(), label=\"average reward\")\n",
    "    plt.xlabel(\"epoch\")\n",
    "    plt.ylabel(\"reward\")\n",
    "    plt.legend()\n",
    "    plt.tight_layout()\n",
    "    plt.savefig(\"solution/b2d.png\")"
   ]
  },
  {
   "cell_type": "code",
   "execution_count": 32,
   "metadata": {
    "pycharm": {
     "name": "#%%\n"
    },
    "scrolled": false
   },
   "outputs": [
    {
     "data": {
      "application/vnd.jupyter.widget-view+json": {
       "model_id": "2e8ef694c44544e5b8a340c12a435d20",
       "version_major": 2,
       "version_minor": 0
      },
      "text/plain": [
       "Validating:   0%|          | 0/100 [00:00<?, ?it/s]"
      ]
     },
     "metadata": {},
     "output_type": "display_data"
    },
    {
     "data": {
      "text/plain": [
       "'ok (Average reward 574.36)'"
      ]
     },
     "execution_count": 32,
     "metadata": {},
     "output_type": "execute_result"
    }
   ],
   "source": [
    "# Test code\n",
    "policy = q_network\n",
    "policy.eval()  # Switch to evaluation mode\n",
    "\n",
    "\n",
    "def _rollout(seed):\n",
    "    env.reset()\n",
    "    state, done = env.reset(), False\n",
    "    t=0\n",
    "    while not done:\n",
    "        t=t+1\n",
    "        probs = policy(torch.tensor(state).float().reshape((1, -1)))[0]\n",
    "        action = np.argmax(probs.detach().numpy())  # Greedy action\n",
    "        state, reward, done, _ = env.step(action)\n",
    "    return t\n",
    "\n",
    "\n",
    "_avg_reward = np.mean([_rollout(seed=i) for i in tqdm(range(100), desc=\"Validating\")])\n",
    "assert _avg_reward >= 487.5, f\"Average reward below 487.5, got {_avg_reward}\"\n",
    "f\"ok (Average reward {_avg_reward:0.2f})\""
   ]
  },
  {
   "cell_type": "code",
   "execution_count": 35,
   "metadata": {
    "pycharm": {
     "name": "#%%\n"
    }
   },
   "outputs": [],
   "source": [
    "# Take a look at the learned policy (this will not run on the JupyterHub)\n",
    "env_name = \"FlappyBird-v0\"\n",
    "# creating environment\n",
    "env= flappy_bird_gym.make(\"FlappyBird-v0\")\n",
    "for i in range(10):\n",
    "    env.seed(i)\n",
    "    state, done = env.reset(), False\n",
    "    while not done:\n",
    "        probs = policy(torch.tensor(state).float().reshape((1, -1)))[0]\n",
    "        action = np.argmax(probs.detach().numpy())  # Greedy action\n",
    "        state, reward, done, _ = env.step(action)\n",
    "        env.render()\n",
    "        time.sleep(1 / 30)  # FPS\n",
    "\n",
    "env.close()"
   ]
  },
  {
   "cell_type": "code",
   "execution_count": null,
   "metadata": {},
   "outputs": [],
   "source": []
  }
 ],
 "metadata": {
  "kernelspec": {
   "display_name": "Python 3 (ipykernel)",
   "language": "python",
   "name": "python3"
  },
  "language_info": {
   "codemirror_mode": {
    "name": "ipython",
    "version": 3
   },
   "file_extension": ".py",
   "mimetype": "text/x-python",
   "name": "python",
   "nbconvert_exporter": "python",
   "pygments_lexer": "ipython3",
   "version": "3.9.12"
  }
 },
 "nbformat": 4,
 "nbformat_minor": 4
}
